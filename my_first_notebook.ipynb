{
 "cells": [
  {
   "cell_type": "code",
   "execution_count": 1,
   "id": "fadd2684",
   "metadata": {},
   "outputs": [
    {
     "name": "stdout",
     "output_type": "stream",
     "text": [
      "Lu, you will get this\n"
     ]
    }
   ],
   "source": [
    "print(\"Lu, you will get this\")"
   ]
  },
  {
   "cell_type": "code",
   "execution_count": 2,
   "id": "47f13364",
   "metadata": {},
   "outputs": [
    {
     "name": "stdout",
     "output_type": "stream",
     "text": [
      "You're smart\n"
     ]
    }
   ],
   "source": [
    "print(\"You're smart\")"
   ]
  },
  {
   "cell_type": "code",
   "execution_count": 3,
   "id": "7e77b367",
   "metadata": {},
   "outputs": [
    {
     "name": "stdout",
     "output_type": "stream",
     "text": [
      "You can do this\n"
     ]
    }
   ],
   "source": [
    "print(\"You can do this\")"
   ]
  },
  {
   "cell_type": "code",
   "execution_count": null,
   "id": "e5d9fcd1",
   "metadata": {},
   "outputs": [],
   "source": []
  }
 ],
 "metadata": {
  "kernelspec": {
   "display_name": "Python 3 (ipykernel)",
   "language": "python",
   "name": "python3"
  },
  "language_info": {
   "codemirror_mode": {
    "name": "ipython",
    "version": 3
   },
   "file_extension": ".py",
   "mimetype": "text/x-python",
   "name": "python",
   "nbconvert_exporter": "python",
   "pygments_lexer": "ipython3",
   "version": "3.9.12"
  }
 },
 "nbformat": 4,
 "nbformat_minor": 5
}
